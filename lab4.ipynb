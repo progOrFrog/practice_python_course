{
 "cells": [
  {
   "cell_type": "code",
   "execution_count": 1,
   "metadata": {},
   "outputs": [],
   "source": [
    "from enum import Enum\n",
    "from typing import Optional\n",
    "import sqlite3"
   ]
  },
  {
   "cell_type": "code",
   "execution_count": 2,
   "metadata": {},
   "outputs": [],
   "source": [
    "class Director:\n",
    "    def __init__(self, name: str, birth_year: int, birth_place: str):\n",
    "        self.name = name\n",
    "        self.birth_year = birth_year\n",
    "        self.birth_place = birth_place\n",
    "\n",
    "class Genre(Enum):\n",
    "    ACTION = \"Action\"\n",
    "    COMEDY = \"Comedy\"\n",
    "    DRAMA = \"Drama\"\n",
    "    HORROR = \"Horror\"\n",
    "    ROMANCE = \"Romance\"\n",
    "    THRILLER = \"Thriller\"\n",
    "    FATNTASY = 'Fantasy'\n",
    "\n",
    "class Movie:\n",
    "    def __init__(self, title: str, release_date: str, director: Director,  reception: Optional[float], genre: Genre):\n",
    "\n",
    "        self.title = title\n",
    "        self.release_date = release_date\n",
    "        self.director = director\n",
    "        self.reception = reception\n",
    "        self.genre = genre\n",
    "    \n",
    "\n",
    "        \n",
    "        conn = sqlite3.connect('movie_data.db')\n",
    "        cur = conn.cursor()\n",
    "        cur.execute(\"CREATE TABLE IF NOT EXISTS movies(title ,director ,genre ,year ,raiting REAL )\")\n",
    "        conn.commit()\n",
    "        conn.close()\n",
    "            \n",
    "\n",
    "    def select(self,):\n",
    "        conn = sqlite3.connect('movie_data.db')\n",
    "        cur = conn.cursor()\n",
    "\n",
    "        res = cur.execute(f'Select * From movies Where title = \"{self.title}\"')\n",
    "        print(res.fetchall())\n",
    "        conn.close()\n",
    "        \n",
    "\n",
    "\n",
    "\n",
    "    def update(self,title_,director_,genre_,year_:str,raiting_:float):\n",
    "        old_title = self.title\n",
    "        old_year = self.release_date\n",
    "\n",
    "        self.title = title_ if title_ else self.title\n",
    "        self.director.name = director_ if director_ else self.director.name\n",
    "        self.genre =  genre_ if genre_ else self.genre\n",
    "        self.release_date = year_ if year_ else self.release_date\n",
    "        self.reception = raiting_ if raiting_ else self.reception\n",
    "\n",
    "        conn = sqlite3.connect('movie_data.db')\n",
    "        cur = conn.cursor()\n",
    "\n",
    "        cur.execute(\"Update movies set title = '{}' , director = '{}' , genre = '{}' , year = '{}' , raiting = {} Where title = '{}' AND year = '{}' \".format(self.title, self.director.name, self.genre.name, self.release_date, self.reception,   old_title, old_year))\n",
    "        conn.commit()\n",
    "\n",
    "        conn.close\n",
    "    \n",
    "\n",
    "\n",
    "    def insert(self):\n",
    "        conn = sqlite3.connect('movie_data.db')\n",
    "        cur = conn.cursor()\n",
    "        \n",
    "        cur.execute(\"INSERT INTO movies VALUES(?, ?, ?, ?, ?);\",(self.title, self.director.name, self.genre.name, self.release_date, self.reception) )\n",
    "        conn.commit()\n",
    "\n",
    "        conn.close\n",
    "\n",
    "\n",
    "    def delete(self):\n",
    "        conn = sqlite3.connect('movie_data.db')\n",
    "        cur = conn.cursor()\n",
    "\n",
    "        cur.execute(\"DELETE  From movies Where title = '{}' AND year = '{}' \".format(self.title, self.release_date))\n",
    "        \n",
    "        conn.commit()\n",
    "\n",
    "        conn.close\n",
    "    \n",
    "\n",
    "\n",
    "\n",
    "    def pretty_print(self):\n",
    "\n",
    "        print(f'{self.title} ({self.release_date}) - Directed by {self.director.name}, Genre: {self.genre.name}' + f\"{f', Reception: {self.reception}%' if self.reception is not None else ''}\")\n"
   ]
  },
  {
   "cell_type": "code",
   "execution_count": 7,
   "metadata": {},
   "outputs": [],
   "source": [
    "director = Director(\"Steven Spielberg\",2,'fg')\n",
    "movie = Movie(\"Jurassic Park\", \"1993\", director, 87, Genre.ACTION )\n",
    "\n"
   ]
  },
  {
   "cell_type": "code",
   "execution_count": 11,
   "metadata": {},
   "outputs": [
    {
     "name": "stdout",
     "output_type": "stream",
     "text": [
      "[('Jurassic Park', 'Steven Spielberg', 'ACTION', '2020-02-02', 35.0)]\n"
     ]
    }
   ],
   "source": [
    "movie.insert()\n",
    "movie.select()"
   ]
  },
  {
   "cell_type": "code",
   "execution_count": 9,
   "metadata": {},
   "outputs": [
    {
     "name": "stdout",
     "output_type": "stream",
     "text": [
      "[('Jurassic Park', 'Steven Spielberg', 'ACTION', '2020-02-02', 35.0)]\n"
     ]
    }
   ],
   "source": [
    "movie.update(None,None,None,'2020-02-02',35)\n",
    "movie.select()"
   ]
  },
  {
   "cell_type": "code",
   "execution_count": 12,
   "metadata": {},
   "outputs": [
    {
     "name": "stdout",
     "output_type": "stream",
     "text": [
      "[]\n"
     ]
    }
   ],
   "source": [
    "movie.delete()\n",
    "movie.select()"
   ]
  }
 ],
 "metadata": {
  "kernelspec": {
   "display_name": "base",
   "language": "python",
   "name": "python3"
  },
  "language_info": {
   "codemirror_mode": {
    "name": "ipython",
    "version": 3
   },
   "file_extension": ".py",
   "mimetype": "text/x-python",
   "name": "python",
   "nbconvert_exporter": "python",
   "pygments_lexer": "ipython3",
   "version": "3.10.9"
  }
 },
 "nbformat": 4,
 "nbformat_minor": 2
}
