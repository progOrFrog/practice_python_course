{
 "cells": [
  {
   "cell_type": "markdown",
   "id": "03d6c514-a2f9-4935-a1bf-8c848674886a",
   "metadata": {},
   "source": [
    "## Lab 5,6"
   ]
  },
  {
   "cell_type": "code",
   "execution_count": 75,
   "id": "d758f15f-ec7a-4638-9e8f-a04cb27b8e5a",
   "metadata": {},
   "outputs": [],
   "source": [
    "import sqlite3\n",
    "con = sqlite3.connect(\"phones.db\")\n",
    "cur = con.cursor()"
   ]
  },
  {
   "cell_type": "code",
   "execution_count": 76,
   "id": "4926ed93-3dd4-4b8a-8f68-1646138b1fc7",
   "metadata": {},
   "outputs": [],
   "source": [
    "from enum import Enum\n",
    "class Country(Enum):\n",
    "    UA = 'Ukraine'\n",
    "    US = 'United States'\n",
    "    DE = 'Germany'\n",
    "    BR = 'Brazil'\n",
    "    IN = 'India'\n",
    "\n",
    "    @classmethod\n",
    "    def valueTuples(self):\n",
    "        \"\"\"Get a list of all values in an enum.\n",
    "        Note that we wrap values in single-element tuples (el,)\n",
    "        so that to feed it into 'INSERT' statement.\n",
    "        \"\"\"\n",
    "        return [(e.value,) for e in Country]\n",
    "\n",
    "    @classmethod\n",
    "    def createTable(self):\n",
    "        \"\"\"This function does two things. First, creates a l_platforms table.\n",
    "        Second, insert predefined values into the table. This is where we use\n",
    "        the valueTuples method from above.\n",
    "        Note the con.commit() call - it's necessary whenever we make changes to a table\n",
    "        \"\"\" \n",
    "        cur.execute('CREATE TABLE IF NOT EXISTS l_countrys (country TEXT PRIMARY KEY)')\n",
    "        # Invoke executemany to insert multiple values at once\n",
    "        cur.executemany('INSERT INTO l_countrys VALUES(?)', Country.valueTuples())\n",
    "        con.commit()\n",
    "\n",
    "    @classmethod\n",
    "    def removeTable(self):\n",
    "        \"\"\"Method for dropping a table. Useful for debugging.\n",
    "        \"\"\"\n",
    "        cur.execute('DROP TABLE IF EXISTS l_countrys')\n",
    "        con.commit()\n",
    "        \n",
    "    @classmethod\n",
    "    def getAll(self):\n",
    "        \"\"\"Fetch all records from l_countrys table.\n",
    "        Note that we convert result tuples back to strings - \n",
    "        it's a reverse operation to the one we did in valueTuples() method.\n",
    "        \"\"\"\n",
    "        cur.execute('SELECT * FROM l_countrys')\n",
    "        res = cur.fetchall()\n",
    "        # Convert tuples in sqlResult to strings and then to enums\n",
    "        return res"
   ]
  },
  {
   "cell_type": "markdown",
   "id": "5a1baf5e-d29e-4700-86d5-418ce78fc174",
   "metadata": {},
   "source": [
    "Let's test it. Create `l_platforms` table:"
   ]
  },
  {
   "cell_type": "code",
   "execution_count": 77,
   "id": "5ae15e86-8b1f-4395-b186-1f81f55a229c",
   "metadata": {},
   "outputs": [],
   "source": [
    "Country.removeTable()\n",
    "Country.createTable()"
   ]
  },
  {
   "cell_type": "markdown",
   "id": "82855c0f-db31-4151-a25b-46cb3e25ebc9",
   "metadata": {},
   "source": [
    "Check if platform values have been inserted:"
   ]
  },
  {
   "cell_type": "code",
   "execution_count": 78,
   "id": "cda167ed-2f26-4027-b629-ef0c46930dab",
   "metadata": {},
   "outputs": [
    {
     "data": {
      "text/plain": [
       "[('Ukraine',), ('United States',), ('Germany',), ('Brazil',), ('India',)]"
      ]
     },
     "execution_count": 78,
     "metadata": {},
     "output_type": "execute_result"
    }
   ],
   "source": [
    "Country.getAll()"
   ]
  },
  {
   "cell_type": "code",
   "execution_count": 79,
   "id": "3a7c3f66-0b1b-4658-aa14-242c12f9850f",
   "metadata": {},
   "outputs": [],
   "source": [
    "class Genre(Enum):\n",
    "    ACTION = \"Action\"\n",
    "    COMEDY = \"Comedy\"\n",
    "    DRAMA = \"Drama\"\n",
    "    HORROR = \"Horror\"\n",
    "    ROMANCE = \"Romance\"\n",
    "    THRILLER = \"Thriller\"\n",
    "    FATNTASY = 'Fantasy'\n",
    "\n",
    "    @classmethod\n",
    "    def valueTuples(self):\n",
    "        \"\"\"Get a list of all values in an enum.\n",
    "        Note that we wrap values in single-element tuples (el,)\n",
    "        so that to feed it into 'INSERT' statement.\n",
    "        \"\"\"\n",
    "        return [(e.value,) for e in Genre]\n",
    "\n",
    "    @classmethod\n",
    "    def createTable(self):\n",
    "        \"\"\"This function does two things. First, creates a l_markets table.\n",
    "        Second, insert predefined values into the table. This is where we use\n",
    "        the valueTuples method from above.\n",
    "        Note the con.commit() call - it's necessary whenever we make changes to a table\n",
    "        \"\"\" \n",
    "        cur.execute('CREATE TABLE IF NOT EXISTS l_markets (market text)')\n",
    "        cur.executemany('INSERT INTO l_markets VALUES(?)', Genre.valueTuples())\n",
    "        con.commit()\n",
    "\n",
    "    @classmethod\n",
    "    def removeTable(self):\n",
    "        \"\"\"Method for dropping a table. Useful for debugging.\n",
    "        \"\"\"\n",
    "        cur.execute('DROP TABLE IF EXISTS l_markets')\n",
    "        con.commit()\n",
    "        \n",
    "    @classmethod\n",
    "    def getAll(self):\n",
    "        \"\"\"Fetch all records from l_markets table.\n",
    "        Note that we convert result tuples back to strings - \n",
    "        it's a reverse operation to the one we did in valueTuples() method.\n",
    "        \"\"\"\n",
    "        cur.execute('SELECT * FROM l_markets')\n",
    "        sqlResult = cur.fetchall()\n",
    "        # Convert tuples in sqlResult to strings and then to enums\n",
    "        return [Genre(p[0]) for p in sqlResult]"
   ]
  },
  {
   "cell_type": "markdown",
   "id": "a88f7dbe-cd49-4715-b63e-cb358ab004cb",
   "metadata": {},
   "source": [
    "It's very similar to the `Platform` enum above.\n",
    "\n",
    "Let's verify that it works properly."
   ]
  },
  {
   "cell_type": "code",
   "execution_count": 80,
   "id": "8bf8a6aa-df3b-4ff4-8a3c-f8dd2a165e68",
   "metadata": {},
   "outputs": [
    {
     "data": {
      "text/plain": [
       "[<Genre.ACTION: 'Action'>,\n",
       " <Genre.COMEDY: 'Comedy'>,\n",
       " <Genre.DRAMA: 'Drama'>,\n",
       " <Genre.HORROR: 'Horror'>,\n",
       " <Genre.ROMANCE: 'Romance'>,\n",
       " <Genre.THRILLER: 'Thriller'>,\n",
       " <Genre.FATNTASY: 'Fantasy'>]"
      ]
     },
     "execution_count": 80,
     "metadata": {},
     "output_type": "execute_result"
    }
   ],
   "source": [
    "Genre.removeTable()\n",
    "Genre.createTable()\n",
    "Genre.getAll()"
   ]
  },
  {
   "cell_type": "code",
   "execution_count": 81,
   "id": "49ee4c50",
   "metadata": {},
   "outputs": [],
   "source": [
    "class Director:\n",
    "    def __init__(self, name, birth_year, country):\n",
    "        self.name = name\n",
    "        self.birth_year = birth_year\n",
    "        self.country = country"
   ]
  },
  {
   "cell_type": "code",
   "execution_count": 82,
   "id": "7e2633e1-5af2-4f83-ae22-1d0fa7bedf7a",
   "metadata": {},
   "outputs": [],
   "source": [
    "\n",
    "class Movie:\n",
    "    def __init__(self, title: str, country: Country, release_date: int, director: Director, genre: Genre, reception: float = None):\n",
    "        self.title = title\n",
    "        self.release_date = release_date\n",
    "        self.director = director\n",
    "        self.genre = genre\n",
    "        self.reception = reception\n",
    "        self.country = country\n",
    "\n",
    "    def __repr__(self):\n",
    "        return f\"{self.title} ({self.release_date}) - Directed by {self.director.name}, Genre: {self.genre.value}, Reception: {self.reception}%, Country: {self.country}\"\n",
    "    \n",
    "    \n",
    "    @classmethod\n",
    "    def removeTable(self):\n",
    "        \"\"\"Method for dropping a table. Useful for debugging.\n",
    "        \"\"\"\n",
    "        cur.execute('DROP TABLE IF EXISTS MOVIES')\n",
    "        con.commit()\n",
    "        \n",
    "    @staticmethod\n",
    "    def connect():\n",
    "        conn = sqlite3.connect(\"movies.db\")\n",
    "        return conn\n",
    "\n",
    "    @staticmethod\n",
    "    def create_table():\n",
    "        conn = Movie.connect()\n",
    "        c = conn.cursor()\n",
    "        c.execute('''CREATE TABLE IF NOT EXISTS MOVIES\n",
    "                     (TITLE TEXT, DIRECTOR TEXT, GENRE TEXT, YEAR INTEGER, RATING REAL, COUNTRY TEXT)''')\n",
    "        conn.commit()\n",
    "        conn.close()\n",
    "\n",
    "    def insert_record(self):\n",
    "        conn = Movie.connect()\n",
    "        c = conn.cursor()\n",
    "        c.execute(\"INSERT INTO MOVIES VALUES (?, ?, ?, ?, ?, ?)\", (self.title, self.director.name,self.genre.value , self.release_date,  self.reception, self.country.value))\n",
    "        conn.commit()\n",
    "        conn.close()\n",
    "\n",
    "    @staticmethod\n",
    "    def select_all():\n",
    "        conn = Movie.connect()\n",
    "        c = conn.cursor()\n",
    "        c.execute(\"SELECT * FROM MOVIES\")\n",
    "        rows = c.fetchall()\n",
    "        conn.close()\n",
    "        return rows\n",
    "\n",
    "    @staticmethod\n",
    "    def update_record(title, reception):\n",
    "        conn = Movie.connect()\n",
    "        c = conn.cursor()\n",
    "        c.execute(\"UPDATE MOVIES SET RATING = ? WHERE TITLE = ?\", (reception, title))\n",
    "        conn.commit()\n",
    "        conn.close()\n",
    "\n",
    "    @staticmethod\n",
    "    def delete_record(title):\n",
    "        conn = Movie.connect()\n",
    "        c = conn.cursor()\n",
    "        c.execute(\"DELETE FROM MOVIES WHERE TITLE = ?\", (title,))\n",
    "        conn.commit()\n",
    "        conn.close()\n"
   ]
  },
  {
   "cell_type": "code",
   "execution_count": 83,
   "id": "71d2c4ec-7b22-412e-b408-fb5a0d683b15",
   "metadata": {},
   "outputs": [],
   "source": [
    "Movie.create_table()"
   ]
  },
  {
   "cell_type": "code",
   "execution_count": 84,
   "id": "66887131-9f9e-4775-b024-208844dc2322",
   "metadata": {},
   "outputs": [
    {
     "data": {
      "text/plain": [
       "[('Jurassic Park', 'Steven Spielberg', 'Action', 1993, 87.0, 'United States'),\n",
       " ('Jurassic Park', 'Steven Spielberg', 'Action', 1993, 87.0, 'United States'),\n",
       " ('Jurassic Park', 'Steven Spielberg', 'Action', 1993, 87.0, 'United States'),\n",
       " ('Jurassic Park', 'Steven Spielberg', 'Action', 1993, 87.0, 'United States'),\n",
       " ('Jurassic Park', 'Steven Spielberg', 'Action', 1993, 87.0, 'United States'),\n",
       " ('Jurassic Park', 'Steven Spielberg', 'Action', 1993, 87.0, 'United States'),\n",
       " ('Jurassic Park', 'Steven Spielberg', 'Action', 1993, 87.0, 'United States'),\n",
       " ('Jurassic Park', 'Steven Spielberg', 'Action', 1993, 87.0, 'United States'),\n",
       " ('Jurassic Park', 'Steven Spielberg', 'Action', 1993, 87.0, 'United States')]"
      ]
     },
     "execution_count": 84,
     "metadata": {},
     "output_type": "execute_result"
    }
   ],
   "source": [
    "director = Director(\"Steven Spielberg\",233,'fgg')\n",
    "movie = Movie(\"Jurassic Park\", Country.US, 1993, director, Genre.ACTION, 87, )\n",
    "\n",
    "movie.insert_record()\n",
    "movie.select_all()"
   ]
  },
  {
   "cell_type": "markdown",
   "id": "0e2f4e64-e824-4ac7-b160-110b0e758add",
   "metadata": {},
   "source": [
    "## Lab 7,8"
   ]
  },
  {
   "cell_type": "code",
   "execution_count": 85,
   "id": "edf31e0c-ec37-4e8e-a7ba-9a312556a129",
   "metadata": {},
   "outputs": [],
   "source": [
    "class Director:\n",
    "    def __init__(self, name, birth_year, country):\n",
    "        self.name = name\n",
    "        self.birth_year = birth_year\n",
    "        self.country = country\n",
    "\n",
    "    @classmethod\n",
    "    def createTable(self):\n",
    "        cur.execute('''CREATE TABLE IF NOT EXISTS directors (\n",
    "                        name TEXT PRIMARY KEY,\n",
    "                        birth_year INT,\n",
    "                        country TEXT\n",
    "                        )''')\n",
    "        con.commit()\n",
    "\n",
    "    @classmethod\n",
    "    def removeTable(self):\n",
    "        cur.execute('DROP TABLE IF EXISTS directors')\n",
    "        con.commit()\n",
    "\n",
    "    def insert(self):\n",
    "        cur.execute('''INSERT INTO directors VALUES(?,?,?)''', (self.name, self.birth_year, self.country.value))\n",
    "        con.commit()\n",
    "\n",
    "    def update(self):\n",
    "        cur.execute('''UPDATE directors SET birth_year=?, country=? WHERE name=?''', (self.birth_year, self.country.value, self.name))\n",
    "        con.commit() \n",
    "\n",
    "    \n",
    "    @classmethod\n",
    "    def getAll(self):\n",
    "        cur.execute('SELECT * FROM directors')\n",
    "        res = cur.fetchall()\n",
    "        return res\n",
    "\n",
    "    def __str__(self):\n",
    "        return \"(%s, %s, %s)\" % (self.name, self.birth_year, self.country.value)"
   ]
  },
  {
   "cell_type": "markdown",
   "id": "19d9ae15-b278-4fe0-95b6-c54038859323",
   "metadata": {},
   "source": [
    "Now we check how it works."
   ]
  },
  {
   "cell_type": "code",
   "execution_count": 86,
   "id": "a0f35fd5-de10-421f-bcda-28221c1ec440",
   "metadata": {},
   "outputs": [],
   "source": [
    "Director.removeTable()\n",
    "Director.createTable()"
   ]
  },
  {
   "cell_type": "code",
   "execution_count": 87,
   "id": "2645dc35-8160-4ce3-8a04-14e0ba2f0d51",
   "metadata": {},
   "outputs": [],
   "source": [
    "director = Director(\"Steven Spielberg\",233,Country.US)\n",
    "\n",
    "director.insert()\n"
   ]
  },
  {
   "cell_type": "code",
   "execution_count": 88,
   "id": "5e742fe2",
   "metadata": {},
   "outputs": [
    {
     "data": {
      "text/plain": [
       "[('Steven Spielberg', 233, 'United States')]"
      ]
     },
     "execution_count": 88,
     "metadata": {},
     "output_type": "execute_result"
    }
   ],
   "source": [
    "Director.getAll()"
   ]
  }
 ],
 "metadata": {
  "kernelspec": {
   "display_name": "Python 3 (ipykernel)",
   "language": "python",
   "name": "python3"
  },
  "language_info": {
   "codemirror_mode": {
    "name": "ipython",
    "version": 3
   },
   "file_extension": ".py",
   "mimetype": "text/x-python",
   "name": "python",
   "nbconvert_exporter": "python",
   "pygments_lexer": "ipython3",
   "version": "3.10.9"
  }
 },
 "nbformat": 4,
 "nbformat_minor": 5
}
