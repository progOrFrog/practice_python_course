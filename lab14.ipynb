{
 "cells": [
  {
   "cell_type": "markdown",
   "id": "7cab8301-1c41-4dc0-8565-c4065590f452",
   "metadata": {},
   "source": [
    "Install sympy library (if required)\n",
    "\n",
    "`pip install sympy`\n",
    "\n",
    "SymPy is Python's library for symbolic mathematics."
   ]
  },
  {
   "cell_type": "code",
   "execution_count": 11,
   "id": "dc69e98b-6449-4178-818c-37463300b77f",
   "metadata": {},
   "outputs": [],
   "source": [
    "import sympy as s"
   ]
  },
  {
   "cell_type": "markdown",
   "id": "0dba1acb-30da-4132-93bc-f570d10c82c3",
   "metadata": {},
   "source": [
    "We can create an arbitrary expression like so:"
   ]
  },
  {
   "cell_type": "code",
   "execution_count": 12,
   "id": "fe667d9c-bac5-4920-9a98-f7e6a49f5962",
   "metadata": {},
   "outputs": [],
   "source": [
    "x = s.Symbol(\"x\")\n",
    "y = s.Symbol(\"y\")\n",
    "expr = x*y + 3"
   ]
  },
  {
   "cell_type": "markdown",
   "id": "89401a7d-d202-4478-9a66-5fab1a5cf247",
   "metadata": {},
   "source": [
    "For now we are interested in SymPy's expression trees (https://docs.sympy.org/latest/tutorials/intro-tutorial/manipulation.html) - these allow us to draw a computation graph for an arbitrary expression.\n",
    "\n",
    "SymPy's `srepr` function can print us such a graph:"
   ]
  },
  {
   "cell_type": "code",
   "execution_count": 13,
   "id": "73a6c9cf-2bf8-4025-b526-f65655a976ab",
   "metadata": {},
   "outputs": [
    {
     "data": {
      "text/plain": [
       "\"Add(Mul(Symbol('x'), Symbol('y')), Integer(3))\""
      ]
     },
     "execution_count": 13,
     "metadata": {},
     "output_type": "execute_result"
    }
   ],
   "source": [
    "s.srepr(expr)"
   ]
  },
  {
   "cell_type": "markdown",
   "id": "c54023f1-d526-44d1-9a8b-c685cadd0770",
   "metadata": {},
   "source": [
    "Note that we basically have a deeply-nested tree structure here.\n",
    "\n",
    "We can recurse through this tree: https://docs.sympy.org/latest/tutorials/intro-tutorial/manipulation.html#recursing-through-an-expression-tree.\n",
    "\n",
    "**Exercise**: use an example in the \"Walking the Tree\" section from above link to implement Python code that will:\n",
    "1. Recurse through an arbitrary expression tree and collect (parent, child) pairs (`(func, args[i])` pairs).\n",
    "2. Print out a list of nodes in Tikz format, for example:\n",
    "   ```\n",
    "     a -> b;\n",
    "     b -> {c, d, e};\n",
    "     a -> f;\n",
    "   ```\n",
    "   where instead of `a`, `b`, and so on, there will be math expressions.\n",
    "3. Verify that the graph is displayed by using the template here: https://www.overleaf.com/project/6613f56ba03909e4a99556a8"
   ]
  },
  {
   "cell_type": "code",
   "execution_count": 14,
   "id": "d91f3dd0-a3d6-40d3-80fb-d1acc6066dcf",
   "metadata": {},
   "outputs": [
    {
     "name": "stdout",
     "output_type": "stream",
     "text": [
      "Mul\n",
      "  ├── Pow\n",
      "    ├── Add\n",
      "      ├── Mul\n",
      "        ├── -1\n",
      "        └── exp\n",
      "          └── c\n",
      "      └── Mul\n",
      "        ├── 2\n",
      "        └── z\n",
      "    └── -1\n",
      "  └── sin\n",
      "    └── Mul\n",
      "      ├── x\n",
      "      └── y\n"
     ]
    }
   ],
   "source": [
    "from sympy import *\n",
    "\n",
    "def print_expression_tree(expr, level=0, prefix=\"\"):\n",
    "    if not expr.args:\n",
    "        print(\"  \" * level + prefix + str(expr))\n",
    "        return\n",
    "    print(\"  \" * level + prefix + expr.func.__name__)\n",
    "    \n",
    "    for i, arg in enumerate(expr.args):\n",
    "        if i < len(expr.args) - 1:\n",
    "            next_prefix = \"├── \"\n",
    "        else:\n",
    "            next_prefix = \"└── \"\n",
    "        print_expression_tree(arg, level + 1, next_prefix)\n",
    "\n",
    "x, y, z, c = symbols('x y z c')\n",
    "expression = sympify('sin(x*y) / (2*z - exp(c))')\n",
    "\n",
    "print_expression_tree(expression)\n"
   ]
  },
  {
   "cell_type": "markdown",
   "id": "e975408f-39f4-4c33-8deb-5b44bbbfe3b5",
   "metadata": {},
   "source": [
    "### Notes on Tikz tree drawing:\n",
    "1. Please switch LaTeX engine to LuaTeX: https://www.overleaf.com/learn/how-to/Changing_compiler\n",
    "2. Note that parent->child relationships are created like so:\n",
    "   ```\n",
    "   parent -> child;\n",
    "   ```\n",
    "   or\n",
    "   ```\n",
    "   parent -> {child1, child2, ...}\n",
    "   ```\n",
    "   for multiple children\n",
    "3. Same nodes can be repeated on multiple lines - Tikz's algorithm will take care of that.\n",
    "4. Custom labels can be set via `b/\"Custom label\"` syntax. This custom label can be set only once when the node is first mentioned.\n",
    "5. More info here: https://tikz.dev/gd-trees"
   ]
  },
  {
   "cell_type": "markdown",
   "id": "89698633-2e24-4a07-b947-0aae9657c8d5",
   "metadata": {},
   "source": [
    "## Use this code to get your own graph based on your expresion"
   ]
  },
  {
   "cell_type": "code",
   "execution_count": null,
   "id": "bbc106ec-b57c-4fe8-95a2-fc8c09502550",
   "metadata": {},
   "outputs": [],
   "source": []
  }
 ],
 "metadata": {
  "kernelspec": {
   "display_name": "Python 3 (ipykernel)",
   "language": "python",
   "name": "python3"
  },
  "language_info": {
   "codemirror_mode": {
    "name": "ipython",
    "version": 3
   },
   "file_extension": ".py",
   "mimetype": "text/x-python",
   "name": "python",
   "nbconvert_exporter": "python",
   "pygments_lexer": "ipython3",
   "version": "3.12.3"
  }
 },
 "nbformat": 4,
 "nbformat_minor": 5
}
